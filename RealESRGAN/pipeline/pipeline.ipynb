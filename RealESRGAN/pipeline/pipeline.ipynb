{
 "cells": [
  {
   "cell_type": "code",
   "execution_count": 2,
   "id": "25ebe5ad-64b6-4324-8c5e-9c5b52924281",
   "metadata": {},
   "outputs": [
    {
     "name": "stdout",
     "output_type": "stream",
     "text": [
      "sagemaker.config INFO - Not applying SDK defaults from location: /etc/xdg/sagemaker/config.yaml\n",
      "sagemaker.config INFO - Not applying SDK defaults from location: /home/ec2-user/.config/sagemaker/config.yaml\n"
     ]
    }
   ],
   "source": [
    "import sagemaker\n",
    "from sagemaker.workflow.parameters import ParameterString\n",
    "from sagemaker.workflow.steps import ProcessingStep, TrainingStep, CreateModelStep, CreateModelInput\n",
    "from sagemaker.workflow.step_collections import RegisterModel\n",
    "from sagemaker.workflow.pipeline import Pipeline\n",
    "from sagemaker.processing import Processor, ProcessingInput, ProcessingOutput\n",
    "from sagemaker.debugger import TensorBoardOutputConfig\n",
    "from sagemaker.inputs import TrainingInput\n",
    "import time\n",
    "from sagemaker.workflow.model_step import ModelStep\n",
    "from sagemaker.workflow.parameters import ParameterInteger\n",
    "from sagemaker.workflow.pipeline_context import PipelineSession"
   ]
  },
  {
   "cell_type": "code",
   "execution_count": 3,
   "id": "2ad2e69a-6a97-4dd8-8963-dbe5b57f688f",
   "metadata": {},
   "outputs": [
    {
     "name": "stdout",
     "output_type": "stream",
     "text": [
      "sagemaker.config INFO - Not applying SDK defaults from location: /etc/xdg/sagemaker/config.yaml\n",
      "sagemaker.config INFO - Not applying SDK defaults from location: /home/ec2-user/.config/sagemaker/config.yaml\n",
      "sagemaker.config INFO - Not applying SDK defaults from location: /etc/xdg/sagemaker/config.yaml\n",
      "sagemaker.config INFO - Not applying SDK defaults from location: /home/ec2-user/.config/sagemaker/config.yaml\n"
     ]
    }
   ],
   "source": [
    "SESSION = sagemaker.Session()\n",
    "ACCOUNT = SESSION.boto_session.client(\"sts\").get_caller_identity()[\"Account\"]\n",
    "ROLE = f\"arn:aws:iam::{ACCOUNT}:role/sagemaker_train_serve\"\n",
    "REGION = SESSION.boto_session.region_name\n",
    "INSTANCE_COUNT=ParameterInteger(name=\"InstanceCount\", default_value=1)\n",
    "PIPELINE_SESSION = PipelineSession()\n",
    "#############################################\n",
    "PROCESSING_JOB_IMAGE = f\"{ACCOUNT}.dkr.ecr.{REGION}.amazonaws.com/resrgan_processing_job\"\n",
    "PROCESSING_JOB_INSTANCE_TYPE = ParameterString(name=\"ProcessingJobInstanceType\", default_value=\"ml.m5.large\")\n",
    "PROCESSING_JOB_NAME = 'RealESRGAN-preprocessing'\n",
    "VOLUME_SIZE = ParameterInteger(name=\"ProcessingVolumeSize\", default_value=20)\n",
    "#############################################\n",
    "TRAINING_JOB_IMAGE = f\"{ACCOUNT}.dkr.ecr.{REGION}.amazonaws.com/gan\"\n",
    "TRAINING_JOB_INSTANCE_TYPE = ParameterString(name=\"TrainingJobInstanceType\", default_value=\"ml.g4dn.xlarge\")\n",
    "TRAINING_JOB_NAME = 'RealESRGAN-training'\n",
    "TRAINING_JOB_OUTPUT_PATH = ParameterString(name=\"TrainingJobOutputPath\", default_value=\"s3://{}/output\".format(SESSION.default_bucket()))\n",
    "TRAINING_JOB_TRAIN_INPUT_PATH = ParameterString(name=\"TrainingJobTrainInputPath\", default_value=\"s3://real-esrgan/train\")\n",
    "TRAINING_JOB_TRAIN_VALIDATION_PATH = ParameterString(name=\"TrainingJobValidationInputPath\", default_value=\"s3://real-esrgan/validation\")\n",
    "TRAINING_JOB_CONTAINER_PORT = ParameterInteger(name=\"TrainingJobContainerPort\", default_value=8080)\n",
    "#############################################\n",
    "INFERENCE_JOB_IMAGE = f\"{ACCOUNT}.dkr.ecr.{REGION}.amazonaws.com/deploy_gan:latest\"\n",
    "INFERENCE_JOB_INSTANCE_TYPE = \"ml.g4dn.xlarge\"\n",
    "MODEL_NAME = ParameterString(name=\"ModelName\", default_value='RealESRGAN')\n",
    "ENDPOINT_CONFIG_NAME = \"RealESRGAN-endpoint-config\"\n",
    "ENDPOINT_NAME = \"RealESRGAN-endpoint\"\n",
    "############################################\n",
    "LAMBDA_ROLE = f\"arn:aws:iam::{ACCOUNT}:role/sagemaker_train_serve\"\n",
    "LAMBDA_NAME = \"RealESRGAN-lambda-step\""
   ]
  },
  {
   "cell_type": "markdown",
   "id": "bd16f533-29d4-48bc-bcf8-c92876301638",
   "metadata": {},
   "source": [
    "# Processing Job"
   ]
  },
  {
   "cell_type": "code",
   "execution_count": 4,
   "id": "b46d11a8-717c-41ab-a689-b0cd0407d111",
   "metadata": {},
   "outputs": [
    {
     "name": "stderr",
     "output_type": "stream",
     "text": [
      "/home/ec2-user/.local/lib/python3.9/site-packages/sagemaker/workflow/pipeline_context.py:297: UserWarning: Running within a PipelineSession, there will be No Wait, No Logs, and No Job being started.\n",
      "  warnings.warn(\n"
     ]
    }
   ],
   "source": [
    "processor = Processor(\n",
    "    role=ROLE,\n",
    "    image_uri=PROCESSING_JOB_IMAGE,\n",
    "    instance_count=INSTANCE_COUNT,\n",
    "    instance_type=PROCESSING_JOB_INSTANCE_TYPE,\n",
    "    volume_size_in_gb=VOLUME_SIZE,\n",
    "    base_job_name=PROCESSING_JOB_NAME,\n",
    "    sagemaker_session=PIPELINE_SESSION\n",
    ")\n",
    "\n",
    "processing_args = processor.run(\n",
    "    inputs=[ProcessingInput(source=\"s3://real-esrgan/train/hq/\", destination=\"/opt/ml/processing/data/training/hq\"),\n",
    "           ProcessingInput(source=\"s3://real-esrgan/validation/hq/\", destination=\"/opt/ml/processing/validation/hq\")],\n",
    "    outputs=[ProcessingOutput(source=\"/opt/ml/processing/data/training/lq\",destination=\"s3://real-esrgan/train/lq/\"),\n",
    "             ProcessingOutput(source=\"/opt/ml/processing/data/training/meta_info\",destination=\"s3://real-esrgan/train/\"),\n",
    "            ProcessingOutput(source=\"/opt/ml/processing/data/validation/lq\",destination=\"s3://real-esrgan/validation/lq/\")]\n",
    ")\n",
    "\n",
    "processing_step = ProcessingStep(\n",
    "    name='RealESRGAN-preprocess',\n",
    "    step_args=processing_args\n",
    ")"
   ]
  },
  {
   "cell_type": "code",
   "execution_count": 5,
   "id": "46542113-c498-4aaf-9d0a-acd7dc8c6aa9",
   "metadata": {},
   "outputs": [],
   "source": [
    "TBC = TensorBoardOutputConfig(\n",
    "    s3_output_path=TRAINING_JOB_OUTPUT_PATH\n",
    ")\n",
    "\n",
    "estimator = sagemaker.estimator.Estimator(\n",
    "    image_uri=TRAINING_JOB_IMAGE,\n",
    "    role=ROLE,\n",
    "    instance_count=INSTANCE_COUNT,\n",
    "    instance_type=TRAINING_JOB_INSTANCE_TYPE,\n",
    "    output_path=TRAINING_JOB_OUTPUT_PATH,\n",
    "    sagemaker_session=PIPELINE_SESSION,\n",
    "    container_port=TRAINING_JOB_CONTAINER_PORT,\n",
    "    tensorboard_output_config=TBC,\n",
    "    base_job_name=TRAINING_JOB_NAME\n",
    "    \n",
    ")\n",
    "\n",
    "training_args = estimator.fit(\n",
    "    inputs={\n",
    "        'training': TrainingInput(\n",
    "            s3_data=TRAINING_JOB_TRAIN_INPUT_PATH\n",
    "        ),\n",
    "        'validation': TrainingInput(\n",
    "            s3_data=TRAINING_JOB_TRAIN_VALIDATION_PATH\n",
    "        )\n",
    "    }\n",
    ")\n",
    "\n",
    "training_step = TrainingStep(\n",
    "    name='RealESRGAN-train',\n",
    "    step_args=training_args,\n",
    "    depends_on=[processing_step]\n",
    ")"
   ]
  },
  {
   "cell_type": "code",
   "execution_count": 6,
   "id": "2ffa309b-0006-41f7-a98b-62bcd628c092",
   "metadata": {},
   "outputs": [],
   "source": [
    "model = sagemaker.Model(\n",
    "        model_data=training_step.properties.ModelArtifacts.S3ModelArtifacts,\n",
    "        role=ROLE,\n",
    "        image_uri=INFERENCE_JOB_IMAGE,\n",
    "        sagemaker_session=PIPELINE_SESSION \n",
    "    )\n",
    "\n",
    "model_creation_step = ModelStep(\n",
    "    name=\"RealESRGAN-CreateModel\",\n",
    "    step_args=model.create(instance_type=INFERENCE_JOB_INSTANCE_TYPE),\n",
    "    depends_on=[training_step]\n",
    ")\n",
    "\n",
    "\n",
    "MODEL_APPROVAL_STATUS    = \"PendingManualApproval\"\n",
    "MODEL_PACKAGE_GROUP_NAME = \"RealESRGAN\"\n",
    "\n",
    "register_model_step_args = model.register(\n",
    "   content_types=[\"image/png\",\"image/jpeg\"],\n",
    "    response_types=[\"image/png\",\"image/jpeg\"],\n",
    "   inference_instances=[INFERENCE_JOB_INSTANCE_TYPE],\n",
    "    approval_status=   MODEL_APPROVAL_STATUS,\n",
    "    model_package_group_name=MODEL_PACKAGE_GROUP_NAME\n",
    ")\n",
    "\n",
    "model_registration_step = ModelStep(\n",
    "   name=\"RealESRGAN-RegisterModel\",\n",
    "   step_args=register_model_step_args,\n",
    "   depends_on=[training_step]\n",
    ")\n",
    "\n"
   ]
  },
  {
   "cell_type": "code",
   "execution_count": null,
   "id": "710b79eb-063f-43c0-b208-e543b021782c",
   "metadata": {},
   "outputs": [],
   "source": [
    "# # Use the current time to define unique names for the resources created\n",
    "\n",
    "\n",
    "# # Lambda helper class can be used to create the Lambda function\n",
    "# func = Lambda(\n",
    "#     function_name=function_name,\n",
    "#     execution_role_arn=LAMBDA_ROLE,\n",
    "#     script=\"lambda_function/lambda_deployer.py\",\n",
    "#     handler=\"lambda_deployer.lambda_handler\",\n",
    "#     timeout=600,\n",
    "#     memory_size=10240,\n",
    "# )\n",
    "\n",
    "\n",
    "# output_param_1 = LambdaOutput(output_name=\"statusCode\", output_type=LambdaOutputTypeEnum.String)\n",
    "# output_param_2 = LambdaOutput(output_name=\"body\", output_type=LambdaOutputTypeEnum.String)\n",
    "# output_param_3 = LambdaOutput(output_name=\"other_key\", output_type=LambdaOutputTypeEnum.String)\n",
    "\n",
    "# step_deploy_lambda = LambdaStep(\n",
    "#     name=\"LambdaStepHuggingFaceDeploy\",\n",
    "#     lambda_func=func,\n",
    "#     inputs={\n",
    "#         \"model_name\": MODEL_NAME,\n",
    "#         \"endpoint_config_name\": ENDPOINT_CONFIG_NAME,\n",
    "#         \"endpoint_name\": ENDPOINT_NAME,\n",
    "#         \"model_package_arn\": model_registration_step.steps[0].properties.ModelPackageArn,\n",
    "#         \"role\": ROLE,\n",
    "#         \"bucket\": bucket,\n",
    "#         \"s3_prefix\": s3_prefix\n",
    "#     },\n",
    "#     outputs=[output_param_1, output_param_2, output_param_3] )"
   ]
  },
  {
   "cell_type": "code",
   "execution_count": 72,
   "id": "6e527c26-ec1e-4228-869f-9a59c86c607b",
   "metadata": {},
   "outputs": [
    {
     "name": "stdout",
     "output_type": "stream",
     "text": [
      "sagemaker.config INFO - Not applying SDK defaults from location: /etc/xdg/sagemaker/config.yaml\n",
      "sagemaker.config INFO - Not applying SDK defaults from location: /home/ec2-user/.config/sagemaker/config.yaml\n"
     ]
    },
    {
     "name": "stderr",
     "output_type": "stream",
     "text": [
      "WARNING:sagemaker.workflow.utilities:Popping out 'ProcessingJobName' from the pipeline definition by default since it will be overridden at pipeline execution time. Please utilize the PipelineDefinitionConfig to persist this field in the pipeline definition if desired.\n",
      "WARNING:sagemaker.workflow.utilities:Popping out 'TrainingJobName' from the pipeline definition by default since it will be overridden at pipeline execution time. Please utilize the PipelineDefinitionConfig to persist this field in the pipeline definition if desired.\n",
      "WARNING:sagemaker.workflow.utilities:Popping out 'ModelPackageName' from the pipeline definition by default since it will be overridden at pipeline execution time. Please utilize the PipelineDefinitionConfig to persist this field in the pipeline definition if desired.\n",
      "WARNING:sagemaker.workflow.utilities:Popping out 'ProcessingJobName' from the pipeline definition by default since it will be overridden at pipeline execution time. Please utilize the PipelineDefinitionConfig to persist this field in the pipeline definition if desired.\n",
      "WARNING:sagemaker.workflow.utilities:Popping out 'TrainingJobName' from the pipeline definition by default since it will be overridden at pipeline execution time. Please utilize the PipelineDefinitionConfig to persist this field in the pipeline definition if desired.\n",
      "WARNING:sagemaker.workflow.utilities:Popping out 'ModelPackageName' from the pipeline definition by default since it will be overridden at pipeline execution time. Please utilize the PipelineDefinitionConfig to persist this field in the pipeline definition if desired.\n"
     ]
    },
    {
     "ename": "WaiterError",
     "evalue": "Waiter PipelineExecutionComplete failed: Waiter encountered a terminal failure state: For expression \"PipelineExecutionStatus\" we matched expected path: \"Failed\"",
     "output_type": "error",
     "traceback": [
      "\u001b[0;31m---------------------------------------------------------------------------\u001b[0m",
      "\u001b[0;31mWaiterError\u001b[0m                               Traceback (most recent call last)",
      "Cell \u001b[0;32mIn[72], line 25\u001b[0m\n\u001b[1;32m     23\u001b[0m pipeline\u001b[38;5;241m.\u001b[39mupsert(role_arn\u001b[38;5;241m=\u001b[39mROLE)\n\u001b[1;32m     24\u001b[0m execution \u001b[38;5;241m=\u001b[39m pipeline\u001b[38;5;241m.\u001b[39mstart()\n\u001b[0;32m---> 25\u001b[0m \u001b[43mexecution\u001b[49m\u001b[38;5;241;43m.\u001b[39;49m\u001b[43mwait\u001b[49m\u001b[43m(\u001b[49m\u001b[43m)\u001b[49m\n",
      "File \u001b[0;32m~/.local/lib/python3.9/site-packages/sagemaker/workflow/pipeline.py:791\u001b[0m, in \u001b[0;36m_PipelineExecution.wait\u001b[0;34m(self, delay, max_attempts)\u001b[0m\n\u001b[1;32m    762\u001b[0m model \u001b[38;5;241m=\u001b[39m botocore\u001b[38;5;241m.\u001b[39mwaiter\u001b[38;5;241m.\u001b[39mWaiterModel(\n\u001b[1;32m    763\u001b[0m     {\n\u001b[1;32m    764\u001b[0m         \u001b[38;5;124m\"\u001b[39m\u001b[38;5;124mversion\u001b[39m\u001b[38;5;124m\"\u001b[39m: \u001b[38;5;241m2\u001b[39m,\n\u001b[0;32m   (...)\u001b[0m\n\u001b[1;32m    786\u001b[0m     }\n\u001b[1;32m    787\u001b[0m )\n\u001b[1;32m    788\u001b[0m waiter \u001b[38;5;241m=\u001b[39m botocore\u001b[38;5;241m.\u001b[39mwaiter\u001b[38;5;241m.\u001b[39mcreate_waiter_with_client(\n\u001b[1;32m    789\u001b[0m     waiter_id, model, \u001b[38;5;28mself\u001b[39m\u001b[38;5;241m.\u001b[39msagemaker_session\u001b[38;5;241m.\u001b[39msagemaker_client\n\u001b[1;32m    790\u001b[0m )\n\u001b[0;32m--> 791\u001b[0m \u001b[43mwaiter\u001b[49m\u001b[38;5;241;43m.\u001b[39;49m\u001b[43mwait\u001b[49m\u001b[43m(\u001b[49m\u001b[43mPipelineExecutionArn\u001b[49m\u001b[38;5;241;43m=\u001b[39;49m\u001b[38;5;28;43mself\u001b[39;49m\u001b[38;5;241;43m.\u001b[39;49m\u001b[43marn\u001b[49m\u001b[43m)\u001b[49m\n",
      "File \u001b[0;32m~/.local/lib/python3.9/site-packages/botocore/waiter.py:55\u001b[0m, in \u001b[0;36mcreate_waiter_with_client.<locals>.wait\u001b[0;34m(self, **kwargs)\u001b[0m\n\u001b[1;32m     54\u001b[0m \u001b[38;5;28;01mdef\u001b[39;00m \u001b[38;5;21mwait\u001b[39m(\u001b[38;5;28mself\u001b[39m, \u001b[38;5;241m*\u001b[39m\u001b[38;5;241m*\u001b[39mkwargs):\n\u001b[0;32m---> 55\u001b[0m     \u001b[43mWaiter\u001b[49m\u001b[38;5;241;43m.\u001b[39;49m\u001b[43mwait\u001b[49m\u001b[43m(\u001b[49m\u001b[38;5;28;43mself\u001b[39;49m\u001b[43m,\u001b[49m\u001b[43m \u001b[49m\u001b[38;5;241;43m*\u001b[39;49m\u001b[38;5;241;43m*\u001b[39;49m\u001b[43mkwargs\u001b[49m\u001b[43m)\u001b[49m\n",
      "File \u001b[0;32m~/.local/lib/python3.9/site-packages/botocore/waiter.py:375\u001b[0m, in \u001b[0;36mWaiter.wait\u001b[0;34m(self, **kwargs)\u001b[0m\n\u001b[1;32m    371\u001b[0m \u001b[38;5;28;01mif\u001b[39;00m current_state \u001b[38;5;241m==\u001b[39m \u001b[38;5;124m'\u001b[39m\u001b[38;5;124mfailure\u001b[39m\u001b[38;5;124m'\u001b[39m:\n\u001b[1;32m    372\u001b[0m     reason \u001b[38;5;241m=\u001b[39m \u001b[38;5;124m'\u001b[39m\u001b[38;5;124mWaiter encountered a terminal failure state: \u001b[39m\u001b[38;5;132;01m%s\u001b[39;00m\u001b[38;5;124m'\u001b[39m \u001b[38;5;241m%\u001b[39m (\n\u001b[1;32m    373\u001b[0m         acceptor\u001b[38;5;241m.\u001b[39mexplanation\n\u001b[1;32m    374\u001b[0m     )\n\u001b[0;32m--> 375\u001b[0m     \u001b[38;5;28;01mraise\u001b[39;00m WaiterError(\n\u001b[1;32m    376\u001b[0m         name\u001b[38;5;241m=\u001b[39m\u001b[38;5;28mself\u001b[39m\u001b[38;5;241m.\u001b[39mname,\n\u001b[1;32m    377\u001b[0m         reason\u001b[38;5;241m=\u001b[39mreason,\n\u001b[1;32m    378\u001b[0m         last_response\u001b[38;5;241m=\u001b[39mresponse,\n\u001b[1;32m    379\u001b[0m     )\n\u001b[1;32m    380\u001b[0m \u001b[38;5;28;01mif\u001b[39;00m num_attempts \u001b[38;5;241m>\u001b[39m\u001b[38;5;241m=\u001b[39m max_attempts:\n\u001b[1;32m    381\u001b[0m     \u001b[38;5;28;01mif\u001b[39;00m last_matched_acceptor \u001b[38;5;129;01mis\u001b[39;00m \u001b[38;5;28;01mNone\u001b[39;00m:\n",
      "\u001b[0;31mWaiterError\u001b[0m: Waiter PipelineExecutionComplete failed: Waiter encountered a terminal failure state: For expression \"PipelineExecutionStatus\" we matched expected path: \"Failed\""
     ]
    }
   ],
   "source": [
    "pipeline = Pipeline(\n",
    "    name='RealESRGAN-Pipeline',\n",
    "    steps=[processing_step, training_step, model_registration_step],\n",
    "    parameters=[\n",
    "        PROCESSING_JOB_IMAGE,\n",
    "        INSTANCE_COUNT,\n",
    "        PROCESSING_JOB_INSTANCE_TYPE,\n",
    "        VOLUME_SIZE,\n",
    "        TRAINING_JOB_IMAGE,\n",
    "        TRAINING_JOB_OUTPUT_PATH,\n",
    "        TRAINING_JOB_INSTANCE_TYPE,\n",
    "        TRAINING_JOB_CONTAINER_PORT,\n",
    "        TBC,\n",
    "        TRAINING_JOB_TRAIN_INPUT_PATH,\n",
    "        TRAINING_JOB_TRAIN_VALIDATION_PATH,\n",
    "        INFERENCE_JOB_IMAGE,\n",
    "        INFERENCE_JOB_INSTANCE_TYPE,\n",
    "        MODEL_APPROVAL_STATUS,\n",
    "        MODEL_PACKAGE_GROUP_NAME\n",
    "]\n",
    ")\n",
    "\n",
    "pipeline.upsert(role_arn=ROLE)\n",
    "execution = pipeline.start()\n",
    "execution.wait()"
   ]
  }
 ],
 "metadata": {
  "kernelspec": {
   "display_name": "Python 3 (ipykernel)",
   "language": "python",
   "name": "python3"
  },
  "language_info": {
   "codemirror_mode": {
    "name": "ipython",
    "version": 3
   },
   "file_extension": ".py",
   "mimetype": "text/x-python",
   "name": "python",
   "nbconvert_exporter": "python",
   "pygments_lexer": "ipython3",
   "version": "3.9.16"
  }
 },
 "nbformat": 4,
 "nbformat_minor": 5
}
