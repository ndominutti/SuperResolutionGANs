{
 "cells": [
  {
   "cell_type": "code",
   "execution_count": 1,
   "id": "ea50688a-9443-41ce-8137-07bc8a7fb82a",
   "metadata": {},
   "outputs": [
    {
     "name": "stdout",
     "output_type": "stream",
     "text": [
      "sagemaker.config INFO - Not applying SDK defaults from location: /etc/xdg/sagemaker/config.yaml\n",
      "sagemaker.config INFO - Not applying SDK defaults from location: /home/ec2-user/.config/sagemaker/config.yaml\n"
     ]
    }
   ],
   "source": [
    "import sagemaker as sm\n",
    "from sagemaker.debugger import TensorBoardOutputConfig\n",
    "from sagemaker.processing import ScriptProcessor, Processor\n",
    "from sagemaker.processing import ProcessingInput, ProcessingOutput"
   ]
  },
  {
   "cell_type": "code",
   "execution_count": 7,
   "id": "845175e2-044b-45d2-9f59-e1d6158d1cc0",
   "metadata": {},
   "outputs": [
    {
     "name": "stderr",
     "output_type": "stream",
     "text": [
      "INFO:botocore.credentials:Found credentials in shared credentials file: ~/.aws/credentials\n"
     ]
    },
    {
     "name": "stdout",
     "output_type": "stream",
     "text": [
      "sagemaker.config INFO - Not applying SDK defaults from location: /etc/xdg/sagemaker/config.yaml\n",
      "sagemaker.config INFO - Not applying SDK defaults from location: /home/ec2-user/.config/sagemaker/config.yaml\n"
     ]
    }
   ],
   "source": [
    "sesion = sm.Session()\n",
    "# sesion = sm.LocalSession()"
   ]
  },
  {
   "cell_type": "code",
   "execution_count": 8,
   "id": "02ec8705-8e36-406e-b5a0-7c6a4497349a",
   "metadata": {},
   "outputs": [],
   "source": [
    "role = f\"arn:aws:iam::169385451286:role/sagemaker_train_serve\"\n",
    "account = sesion.boto_session.client(\"sts\").get_caller_identity()[\"Account\"]\n",
    "region = sesion.boto_session.region_name\n",
    "image = \"169385451286.dkr.ecr.us-east-2.amazonaws.com/resrgan_processing_job\"\n",
    "instance_type = \"ml.m5.large\""
   ]
  },
  {
   "cell_type": "code",
   "execution_count": 9,
   "id": "e431f619-9838-4041-9085-fb58d97998d7",
   "metadata": {},
   "outputs": [],
   "source": [
    "processor = Processor(\n",
    "    role=role,\n",
    "    image_uri=image,\n",
    "    instance_count=1,\n",
    "    instance_type=instance_type,\n",
    "    volume_size_in_gb=20,\n",
    "    base_job_name='RealESRGAN-preprocessing',\n",
    "    sagemaker_session=sesion\n",
    ")"
   ]
  },
  {
   "cell_type": "code",
   "execution_count": null,
   "id": "511baa1a-2e47-4a35-93fc-0761a0afcfb6",
   "metadata": {},
   "outputs": [
    {
     "name": "stderr",
     "output_type": "stream",
     "text": [
      "INFO:sagemaker:Creating processing-job with name RealESRGAN-preprocessing-2023-11-14-13-59-41-969\n"
     ]
    },
    {
     "name": "stdout",
     "output_type": "stream",
     "text": [
      "."
     ]
    }
   ],
   "source": [
    "processor.run(\n",
    "    inputs=[ProcessingInput(source=\"s3://real-esrgan/train/hq/\", destination=\"/opt/ml/processing/data/training/hq\"),\n",
    "           ProcessingInput(source=\"s3://real-esrgan/validation/hq/\", destination=\"//opt/ml/processing/validation/hq\")],\n",
    "    outputs=[ProcessingOutput(source=\"/opt/ml/processing/data/training/lq\",destination=\"s3://real-esrgan/train/lq/\"),\n",
    "             ProcessingOutput(source=\"/opt/ml/processing/data/training/meta_info\",destination=\"s3://real-esrgan/train/\"),\n",
    "            ProcessingOutput(source=\"/opt/ml/processing/data/validation/lq\",destination=\"s3://real-esrgan/validation/lq/\")],\n",
    ")"
   ]
  },
  {
   "cell_type": "code",
   "execution_count": null,
   "id": "4fa3553b-da41-4507-9ba3-374bce211923",
   "metadata": {},
   "outputs": [],
   "source": []
  }
 ],
 "metadata": {
  "kernelspec": {
   "display_name": "Python 3 (ipykernel)",
   "language": "python",
   "name": "python3"
  },
  "language_info": {
   "codemirror_mode": {
    "name": "ipython",
    "version": 3
   },
   "file_extension": ".py",
   "mimetype": "text/x-python",
   "name": "python",
   "nbconvert_exporter": "python",
   "pygments_lexer": "ipython3",
   "version": "3.9.16"
  }
 },
 "nbformat": 4,
 "nbformat_minor": 5
}
